{
 "cells": [
  {
   "cell_type": "markdown",
   "id": "8ff13a27",
   "metadata": {},
   "source": [
    "### ONLINE FOOD ORDER PREDICTION USING PYTHON ML"
   ]
  },
  {
   "cell_type": "code",
   "execution_count": 1,
   "id": "5ea7915a",
   "metadata": {},
   "outputs": [
    {
     "name": "stdout",
     "output_type": "stream",
     "text": [
      "Requirement already satisfied: numpy in c:\\users\\arijit roy\\python-anaconda\\lib\\site-packages (1.21.5)\n"
     ]
    }
   ],
   "source": [
    "!pip3 install numpy"
   ]
  },
  {
   "cell_type": "code",
   "execution_count": 2,
   "id": "a644e3c6",
   "metadata": {},
   "outputs": [
    {
     "name": "stdout",
     "output_type": "stream",
     "text": [
      "Requirement already satisfied: pandas in c:\\users\\arijit roy\\python-anaconda\\lib\\site-packages (1.4.4)\n",
      "Requirement already satisfied: pytz>=2020.1 in c:\\users\\arijit roy\\python-anaconda\\lib\\site-packages (from pandas) (2022.1)\n",
      "Requirement already satisfied: python-dateutil>=2.8.1 in c:\\users\\arijit roy\\python-anaconda\\lib\\site-packages (from pandas) (2.8.2)\n",
      "Requirement already satisfied: numpy>=1.18.5 in c:\\users\\arijit roy\\python-anaconda\\lib\\site-packages (from pandas) (1.21.5)\n",
      "Requirement already satisfied: six>=1.5 in c:\\users\\arijit roy\\python-anaconda\\lib\\site-packages (from python-dateutil>=2.8.1->pandas) (1.16.0)\n"
     ]
    }
   ],
   "source": [
    "!pip3 install pandas"
   ]
  },
  {
   "cell_type": "code",
   "execution_count": 3,
   "id": "c5dd6ed0",
   "metadata": {},
   "outputs": [
    {
     "name": "stdout",
     "output_type": "stream",
     "text": [
      "Requirement already satisfied: pip in c:\\users\\arijit roy\\python-anaconda\\lib\\site-packages (22.2.2)\n",
      "Collecting pip\n",
      "  Using cached pip-23.0.1-py3-none-any.whl (2.1 MB)\n"
     ]
    },
    {
     "name": "stderr",
     "output_type": "stream",
     "text": [
      "ERROR: To modify pip, please run the following command:\n",
      "C:\\Users\\ARIJIT ROY\\PYTHON-ANACONDA\\python.exe -m pip install --upgrade pip\n"
     ]
    }
   ],
   "source": [
    "!pip install --upgrade pip"
   ]
  },
  {
   "cell_type": "code",
   "execution_count": 5,
   "id": "e0d57f3b",
   "metadata": {},
   "outputs": [
    {
     "name": "stdout",
     "output_type": "stream",
     "text": [
      "Collecting seaborn\n",
      "  Downloading seaborn-0.12.2-py3-none-any.whl (293 kB)\n",
      "     ------------------------------------ 293.3/293.3 kB 723.9 kB/s eta 0:00:00\n",
      "Requirement already satisfied: pandas>=0.25 in c:\\users\\datm\\appdata\\local\\programs\\python\\python310\\lib\\site-packages (from seaborn) (1.5.3)\n",
      "Requirement already satisfied: numpy!=1.24.0,>=1.17 in c:\\users\\datm\\appdata\\local\\programs\\python\\python310\\lib\\site-packages (from seaborn) (1.24.2)\n",
      "Collecting matplotlib!=3.6.1,>=3.1\n",
      "  Downloading matplotlib-3.7.1-cp310-cp310-win_amd64.whl (7.6 MB)\n",
      "     ---------------------------------------- 7.6/7.6 MB 2.7 MB/s eta 0:00:00\n",
      "Requirement already satisfied: packaging>=20.0 in c:\\users\\datm\\appdata\\local\\programs\\python\\python310\\lib\\site-packages (from matplotlib!=3.6.1,>=3.1->seaborn) (23.0)\n",
      "Collecting kiwisolver>=1.0.1\n",
      "  Downloading kiwisolver-1.4.4-cp310-cp310-win_amd64.whl (55 kB)\n",
      "     ---------------------------------------- 55.3/55.3 kB 2.8 MB/s eta 0:00:00\n",
      "Collecting cycler>=0.10\n",
      "  Downloading cycler-0.11.0-py3-none-any.whl (6.4 kB)\n",
      "Collecting pyparsing>=2.3.1\n",
      "  Downloading pyparsing-3.0.9-py3-none-any.whl (98 kB)\n",
      "     ---------------------------------------- 98.3/98.3 kB ? eta 0:00:00\n",
      "Collecting contourpy>=1.0.1\n",
      "  Downloading contourpy-1.0.7-cp310-cp310-win_amd64.whl (162 kB)\n",
      "     ------------------------------------- 163.0/163.0 kB 10.2 MB/s eta 0:00:00\n",
      "Collecting pillow>=6.2.0\n",
      "  Downloading Pillow-9.4.0-cp310-cp310-win_amd64.whl (2.5 MB)\n",
      "     ---------------------------------------- 2.5/2.5 MB 1.1 MB/s eta 0:00:00\n",
      "Requirement already satisfied: python-dateutil>=2.7 in c:\\users\\datm\\appdata\\local\\programs\\python\\python310\\lib\\site-packages (from matplotlib!=3.6.1,>=3.1->seaborn) (2.8.2)\n",
      "Collecting fonttools>=4.22.0\n",
      "  Downloading fonttools-4.39.0-py3-none-any.whl (1.0 MB)\n",
      "     ---------------------------------------- 1.0/1.0 MB 10.6 MB/s eta 0:00:00\n",
      "Requirement already satisfied: pytz>=2020.1 in c:\\users\\datm\\appdata\\local\\programs\\python\\python310\\lib\\site-packages (from pandas>=0.25->seaborn) (2022.7.1)\n",
      "Requirement already satisfied: six>=1.5 in c:\\users\\datm\\appdata\\local\\programs\\python\\python310\\lib\\site-packages (from python-dateutil>=2.7->matplotlib!=3.6.1,>=3.1->seaborn) (1.16.0)\n",
      "Installing collected packages: pyparsing, pillow, kiwisolver, fonttools, cycler, contourpy, matplotlib, seaborn\n",
      "Successfully installed contourpy-1.0.7 cycler-0.11.0 fonttools-4.39.0 kiwisolver-1.4.4 matplotlib-3.7.1 pillow-9.4.0 pyparsing-3.0.9 seaborn-0.12.2\n"
     ]
    },
    {
     "name": "stderr",
     "output_type": "stream",
     "text": [
      "\n",
      "[notice] A new release of pip available: 22.3.1 -> 23.0.1\n",
      "[notice] To update, run: python.exe -m pip install --upgrade pip\n"
     ]
    }
   ],
   "source": [
    "!pip3 install seaborn"
   ]
  },
  {
   "cell_type": "code",
   "execution_count": 4,
   "id": "34832934",
   "metadata": {},
   "outputs": [
    {
     "name": "stdout",
     "output_type": "stream",
     "text": [
      "Collecting matplotlip\n",
      "  Downloading matplotlip-0.2-py3-none-any.whl (1.8 kB)\n",
      "Installing collected packages: matplotlip\n",
      "Successfully installed matplotlip-0.2\n"
     ]
    }
   ],
   "source": [
    "!pip3 install matplotlip"
   ]
  },
  {
   "cell_type": "code",
   "execution_count": 5,
   "id": "7e5924e2",
   "metadata": {},
   "outputs": [
    {
     "name": "stdout",
     "output_type": "stream",
     "text": [
      "Requirement already satisfied: plotly in c:\\users\\arijit roy\\python-anaconda\\lib\\site-packages (5.9.0)\n",
      "Requirement already satisfied: tenacity>=6.2.0 in c:\\users\\arijit roy\\python-anaconda\\lib\\site-packages (from plotly) (8.0.1)\n"
     ]
    }
   ],
   "source": [
    "!pip3 install plotly"
   ]
  },
  {
   "cell_type": "code",
   "execution_count": 2,
   "id": "73e7dde6",
   "metadata": {},
   "outputs": [
    {
     "name": "stdout",
     "output_type": "stream",
     "text": [
      "Requirement already satisfied: scikit-learn in c:\\users\\arijit roy\\python-anaconda\\lib\\site-packages (1.2.2)\n",
      "Requirement already satisfied: numpy>=1.17.3 in c:\\users\\arijit roy\\python-anaconda\\lib\\site-packages (from scikit-learn) (1.21.5)\n",
      "Requirement already satisfied: threadpoolctl>=2.0.0 in c:\\users\\arijit roy\\python-anaconda\\lib\\site-packages (from scikit-learn) (2.2.0)\n",
      "Requirement already satisfied: joblib>=1.1.1 in c:\\users\\arijit roy\\python-anaconda\\lib\\site-packages (from scikit-learn) (1.2.0)\n",
      "Requirement already satisfied: scipy>=1.3.2 in c:\\users\\arijit roy\\python-anaconda\\lib\\site-packages (from scikit-learn) (1.9.1)\n"
     ]
    }
   ],
   "source": [
    "!pip3 install -U scikit-learn"
   ]
  },
  {
   "cell_type": "markdown",
   "id": "63500545",
   "metadata": {},
   "source": [
    "### csv file include"
   ]
  },
  {
   "cell_type": "code",
   "execution_count": 1,
   "id": "5a60f614",
   "metadata": {},
   "outputs": [
    {
     "name": "stdout",
     "output_type": "stream",
     "text": [
      "    Age  Gender Marital status Occupation Education Qualification  \\\n",
      "0    26    Male      Unmarried    Service              Graduation   \n",
      "1    21  Female      Unmarried    Student              Graduation   \n",
      "2    20    Male      Unmarried    Student              Graduation   \n",
      "3    20  Female      Unmarried    Student              Graduation   \n",
      "4    21    Male      Unmarried    Student              Graduation   \n",
      "..  ...     ...            ...        ...                     ...   \n",
      "95   26    Male      Unmarried    Student              Graduation   \n",
      "96   32    Male      Unmarried    Student                 Masters   \n",
      "97   20    Male      Unmarried    Student        Higher Secondary   \n",
      "98   20    Male      Unmarried    Student              Graduation   \n",
      "99   25    Male        Married   Business                 Masters   \n",
      "\n",
      "    Member in family       Place Which you like to prefer for online food app  \\\n",
      "0                  6  Alipurduar                                       Zomato   \n",
      "1                  3  Alipurduar                                       Zomato   \n",
      "2                  7  Coochbehar                                       Zomato   \n",
      "3                  4  Alipurduar                                       Zomato   \n",
      "4                  4  Coochbehar                                       Zomato   \n",
      "..               ...         ...                                          ...   \n",
      "95                 3  Alipurduar                                       Swiggy   \n",
      "96                 4  Coochbehar                                       Zomato   \n",
      "97                 3  Coochbehar                                       Zomato   \n",
      "98                 1  Coochbehar                                       Zomato   \n",
      "99                 4  Coochbehar                                       Zomato   \n",
      "\n",
      "   Feedback of last order  \n",
      "0                Positive  \n",
      "1                Positive  \n",
      "2                Positive  \n",
      "3                Positive  \n",
      "4                Positive  \n",
      "..                    ...  \n",
      "95               Positive  \n",
      "96               Positive  \n",
      "97               Positive  \n",
      "98               Positive  \n",
      "99               Negative  \n",
      "\n",
      "[100 rows x 9 columns]\n"
     ]
    }
   ],
   "source": [
    "import numpy as np\n",
    "import pandas as pd\n",
    "import numpy as np\n",
    "import plotly.express as px\n",
    "import plotly.graph_objects as go\n",
    "import matplotlib.pyplot as plt\n",
    "import seaborn as sns\n",
    "sns.set_theme(style=\"whitegrid\")\n",
    "data=pd.read_csv(\"Final_response.csv\")\n",
    "print(data)"
   ]
  },
  {
   "cell_type": "markdown",
   "id": "1bbe2982",
   "metadata": {},
   "source": [
    "### displying first few record of the data fream as data using the function head(n)"
   ]
  },
  {
   "cell_type": "code",
   "execution_count": 9,
   "id": "59dd6d16",
   "metadata": {},
   "outputs": [
    {
     "data": {
      "text/html": [
       "<div>\n",
       "<style scoped>\n",
       "    .dataframe tbody tr th:only-of-type {\n",
       "        vertical-align: middle;\n",
       "    }\n",
       "\n",
       "    .dataframe tbody tr th {\n",
       "        vertical-align: top;\n",
       "    }\n",
       "\n",
       "    .dataframe thead th {\n",
       "        text-align: right;\n",
       "    }\n",
       "</style>\n",
       "<table border=\"1\" class=\"dataframe\">\n",
       "  <thead>\n",
       "    <tr style=\"text-align: right;\">\n",
       "      <th></th>\n",
       "      <th>Age</th>\n",
       "      <th>Gender</th>\n",
       "      <th>Marital status</th>\n",
       "      <th>Occupation</th>\n",
       "      <th>Education Qualification</th>\n",
       "      <th>Member in family</th>\n",
       "      <th>Place</th>\n",
       "      <th>Which you like to prefer for online food app</th>\n",
       "      <th>Feedback of last order</th>\n",
       "    </tr>\n",
       "  </thead>\n",
       "  <tbody>\n",
       "    <tr>\n",
       "      <th>0</th>\n",
       "      <td>26</td>\n",
       "      <td>Male</td>\n",
       "      <td>Unmarried</td>\n",
       "      <td>Service</td>\n",
       "      <td>Graduation</td>\n",
       "      <td>6</td>\n",
       "      <td>Alipurduar</td>\n",
       "      <td>Zomato</td>\n",
       "      <td>Positive</td>\n",
       "    </tr>\n",
       "    <tr>\n",
       "      <th>1</th>\n",
       "      <td>21</td>\n",
       "      <td>Female</td>\n",
       "      <td>Unmarried</td>\n",
       "      <td>Student</td>\n",
       "      <td>Graduation</td>\n",
       "      <td>3</td>\n",
       "      <td>Alipurduar</td>\n",
       "      <td>Zomato</td>\n",
       "      <td>Positive</td>\n",
       "    </tr>\n",
       "    <tr>\n",
       "      <th>2</th>\n",
       "      <td>20</td>\n",
       "      <td>Male</td>\n",
       "      <td>Unmarried</td>\n",
       "      <td>Student</td>\n",
       "      <td>Graduation</td>\n",
       "      <td>7</td>\n",
       "      <td>Coochbehar</td>\n",
       "      <td>Zomato</td>\n",
       "      <td>Positive</td>\n",
       "    </tr>\n",
       "    <tr>\n",
       "      <th>3</th>\n",
       "      <td>20</td>\n",
       "      <td>Female</td>\n",
       "      <td>Unmarried</td>\n",
       "      <td>Student</td>\n",
       "      <td>Graduation</td>\n",
       "      <td>4</td>\n",
       "      <td>Alipurduar</td>\n",
       "      <td>Zomato</td>\n",
       "      <td>Positive</td>\n",
       "    </tr>\n",
       "    <tr>\n",
       "      <th>4</th>\n",
       "      <td>21</td>\n",
       "      <td>Male</td>\n",
       "      <td>Unmarried</td>\n",
       "      <td>Student</td>\n",
       "      <td>Graduation</td>\n",
       "      <td>4</td>\n",
       "      <td>Coochbehar</td>\n",
       "      <td>Zomato</td>\n",
       "      <td>Positive</td>\n",
       "    </tr>\n",
       "    <tr>\n",
       "      <th>5</th>\n",
       "      <td>20</td>\n",
       "      <td>Female</td>\n",
       "      <td>Unmarried</td>\n",
       "      <td>Student</td>\n",
       "      <td>Graduation</td>\n",
       "      <td>4</td>\n",
       "      <td>Alipurduar</td>\n",
       "      <td>Zomato</td>\n",
       "      <td>Positive</td>\n",
       "    </tr>\n",
       "    <tr>\n",
       "      <th>6</th>\n",
       "      <td>22</td>\n",
       "      <td>Male</td>\n",
       "      <td>Unmarried</td>\n",
       "      <td>Student</td>\n",
       "      <td>Graduation</td>\n",
       "      <td>3</td>\n",
       "      <td>Alipurduar</td>\n",
       "      <td>Zomato</td>\n",
       "      <td>Positive</td>\n",
       "    </tr>\n",
       "    <tr>\n",
       "      <th>7</th>\n",
       "      <td>26</td>\n",
       "      <td>Female</td>\n",
       "      <td>Unmarried</td>\n",
       "      <td>Service</td>\n",
       "      <td>Graduation</td>\n",
       "      <td>4</td>\n",
       "      <td>Alipurduar</td>\n",
       "      <td>Zomato</td>\n",
       "      <td>Positive</td>\n",
       "    </tr>\n",
       "    <tr>\n",
       "      <th>8</th>\n",
       "      <td>28</td>\n",
       "      <td>Male</td>\n",
       "      <td>Unmarried</td>\n",
       "      <td>Service</td>\n",
       "      <td>Graduation</td>\n",
       "      <td>5</td>\n",
       "      <td>Dinhata</td>\n",
       "      <td>Zomato</td>\n",
       "      <td>Positive</td>\n",
       "    </tr>\n",
       "    <tr>\n",
       "      <th>9</th>\n",
       "      <td>20</td>\n",
       "      <td>Female</td>\n",
       "      <td>Unmarried</td>\n",
       "      <td>Student</td>\n",
       "      <td>Graduation</td>\n",
       "      <td>4</td>\n",
       "      <td>Alipurduar</td>\n",
       "      <td>Zomato</td>\n",
       "      <td>Positive</td>\n",
       "    </tr>\n",
       "  </tbody>\n",
       "</table>\n",
       "</div>"
      ],
      "text/plain": [
       "   Age  Gender Marital status Occupation Education Qualification  \\\n",
       "0   26    Male      Unmarried    Service              Graduation   \n",
       "1   21  Female      Unmarried    Student              Graduation   \n",
       "2   20    Male      Unmarried    Student              Graduation   \n",
       "3   20  Female      Unmarried    Student              Graduation   \n",
       "4   21    Male      Unmarried    Student              Graduation   \n",
       "5   20  Female      Unmarried    Student              Graduation   \n",
       "6   22    Male      Unmarried    Student              Graduation   \n",
       "7   26  Female      Unmarried    Service              Graduation   \n",
       "8   28    Male      Unmarried    Service              Graduation   \n",
       "9   20  Female      Unmarried    Student              Graduation   \n",
       "\n",
       "   Member in family       Place Which you like to prefer for online food app  \\\n",
       "0                 6  Alipurduar                                       Zomato   \n",
       "1                 3  Alipurduar                                       Zomato   \n",
       "2                 7  Coochbehar                                       Zomato   \n",
       "3                 4  Alipurduar                                       Zomato   \n",
       "4                 4  Coochbehar                                       Zomato   \n",
       "5                 4  Alipurduar                                       Zomato   \n",
       "6                 3  Alipurduar                                       Zomato   \n",
       "7                 4  Alipurduar                                       Zomato   \n",
       "8                 5     Dinhata                                       Zomato   \n",
       "9                 4  Alipurduar                                       Zomato   \n",
       "\n",
       "  Feedback of last order  \n",
       "0               Positive  \n",
       "1               Positive  \n",
       "2               Positive  \n",
       "3               Positive  \n",
       "4               Positive  \n",
       "5               Positive  \n",
       "6               Positive  \n",
       "7               Positive  \n",
       "8               Positive  \n",
       "9               Positive  "
      ]
     },
     "execution_count": 9,
     "metadata": {},
     "output_type": "execute_result"
    }
   ],
   "source": [
    "data.head(10)"
   ]
  },
  {
   "cell_type": "markdown",
   "id": "b6f54bfb",
   "metadata": {},
   "source": [
    "### finding summury of the data fream as data to disply the all the column name "
   ]
  },
  {
   "cell_type": "code",
   "execution_count": 10,
   "id": "7eafa287",
   "metadata": {},
   "outputs": [
    {
     "data": {
      "text/plain": [
       "['Age',\n",
       " 'Gender',\n",
       " 'Marital status',\n",
       " 'Occupation',\n",
       " 'Education Qualification',\n",
       " 'Member in family',\n",
       " 'Place',\n",
       " 'Which you like to prefer for online food app',\n",
       " 'Feedback of last order']"
      ]
     },
     "execution_count": 10,
     "metadata": {},
     "output_type": "execute_result"
    }
   ],
   "source": [
    "list(data.columns)"
   ]
  },
  {
   "cell_type": "markdown",
   "id": "2fdc0f64",
   "metadata": {},
   "source": [
    "### the dimention or the size of the data frame can be retrived through the shape which returns tuple from data frame"
   ]
  },
  {
   "cell_type": "code",
   "execution_count": 11,
   "id": "ff632efc",
   "metadata": {},
   "outputs": [
    {
     "data": {
      "text/plain": [
       "(100, 9)"
      ]
     },
     "execution_count": 11,
     "metadata": {},
     "output_type": "execute_result"
    }
   ],
   "source": [
    "data.shape"
   ]
  },
  {
   "cell_type": "markdown",
   "id": "db87e224",
   "metadata": {},
   "source": [
    "### Information of all the columns data types in the dataframe"
   ]
  },
  {
   "cell_type": "code",
   "execution_count": 4,
   "id": "e6d34b07",
   "metadata": {},
   "outputs": [
    {
     "name": "stdout",
     "output_type": "stream",
     "text": [
      "<class 'pandas.core.frame.DataFrame'>\n",
      "RangeIndex: 100 entries, 0 to 99\n",
      "Data columns (total 9 columns):\n",
      " #   Column                                        Non-Null Count  Dtype \n",
      "---  ------                                        --------------  ----- \n",
      " 0   Age                                           100 non-null    int64 \n",
      " 1   Gender                                        100 non-null    object\n",
      " 2   Marital status                                100 non-null    object\n",
      " 3   Occupation                                    100 non-null    object\n",
      " 4   Education Qualification                       100 non-null    object\n",
      " 5   Member in family                              100 non-null    int64 \n",
      " 6   Place                                         100 non-null    object\n",
      " 7   Which you like to prefer for online food app  100 non-null    object\n",
      " 8   Feedback of last order                        100 non-null    object\n",
      "dtypes: int64(2), object(7)\n",
      "memory usage: 7.2+ KB\n"
     ]
    }
   ],
   "source": [
    "data.info()"
   ]
  },
  {
   "cell_type": "markdown",
   "id": "9df1a09c",
   "metadata": {},
   "source": [
    "### Slicing and indexing of dataframe"
   ]
  },
  {
   "cell_type": "code",
   "execution_count": 22,
   "id": "483df108",
   "metadata": {},
   "outputs": [
    {
     "data": {
      "text/html": [
       "<div>\n",
       "<style scoped>\n",
       "    .dataframe tbody tr th:only-of-type {\n",
       "        vertical-align: middle;\n",
       "    }\n",
       "\n",
       "    .dataframe tbody tr th {\n",
       "        vertical-align: top;\n",
       "    }\n",
       "\n",
       "    .dataframe thead th {\n",
       "        text-align: right;\n",
       "    }\n",
       "</style>\n",
       "<table border=\"1\" class=\"dataframe\">\n",
       "  <thead>\n",
       "    <tr style=\"text-align: right;\">\n",
       "      <th></th>\n",
       "      <th>Age</th>\n",
       "      <th>Gender</th>\n",
       "      <th>Marital status</th>\n",
       "      <th>Occupation</th>\n",
       "      <th>Education Qualification</th>\n",
       "      <th>Member in family</th>\n",
       "      <th>Place</th>\n",
       "      <th>Which you like to prefer for online food app</th>\n",
       "      <th>Feedback of last order</th>\n",
       "    </tr>\n",
       "  </thead>\n",
       "  <tbody>\n",
       "    <tr>\n",
       "      <th>0</th>\n",
       "      <td>26</td>\n",
       "      <td>Male</td>\n",
       "      <td>Unmarried</td>\n",
       "      <td>Service</td>\n",
       "      <td>Graduation</td>\n",
       "      <td>6</td>\n",
       "      <td>Alipurduar</td>\n",
       "      <td>Zomato</td>\n",
       "      <td>Positive</td>\n",
       "    </tr>\n",
       "    <tr>\n",
       "      <th>1</th>\n",
       "      <td>21</td>\n",
       "      <td>Female</td>\n",
       "      <td>Unmarried</td>\n",
       "      <td>Student</td>\n",
       "      <td>Graduation</td>\n",
       "      <td>3</td>\n",
       "      <td>Alipurduar</td>\n",
       "      <td>Zomato</td>\n",
       "      <td>Positive</td>\n",
       "    </tr>\n",
       "    <tr>\n",
       "      <th>2</th>\n",
       "      <td>20</td>\n",
       "      <td>Male</td>\n",
       "      <td>Unmarried</td>\n",
       "      <td>Student</td>\n",
       "      <td>Graduation</td>\n",
       "      <td>7</td>\n",
       "      <td>Coochbehar</td>\n",
       "      <td>Zomato</td>\n",
       "      <td>Positive</td>\n",
       "    </tr>\n",
       "    <tr>\n",
       "      <th>3</th>\n",
       "      <td>20</td>\n",
       "      <td>Female</td>\n",
       "      <td>Unmarried</td>\n",
       "      <td>Student</td>\n",
       "      <td>Graduation</td>\n",
       "      <td>4</td>\n",
       "      <td>Alipurduar</td>\n",
       "      <td>Zomato</td>\n",
       "      <td>Positive</td>\n",
       "    </tr>\n",
       "    <tr>\n",
       "      <th>4</th>\n",
       "      <td>21</td>\n",
       "      <td>Male</td>\n",
       "      <td>Unmarried</td>\n",
       "      <td>Student</td>\n",
       "      <td>Graduation</td>\n",
       "      <td>4</td>\n",
       "      <td>Coochbehar</td>\n",
       "      <td>Zomato</td>\n",
       "      <td>Positive</td>\n",
       "    </tr>\n",
       "    <tr>\n",
       "      <th>5</th>\n",
       "      <td>20</td>\n",
       "      <td>Female</td>\n",
       "      <td>Unmarried</td>\n",
       "      <td>Student</td>\n",
       "      <td>Graduation</td>\n",
       "      <td>4</td>\n",
       "      <td>Alipurduar</td>\n",
       "      <td>Zomato</td>\n",
       "      <td>Positive</td>\n",
       "    </tr>\n",
       "    <tr>\n",
       "      <th>6</th>\n",
       "      <td>22</td>\n",
       "      <td>Male</td>\n",
       "      <td>Unmarried</td>\n",
       "      <td>Student</td>\n",
       "      <td>Graduation</td>\n",
       "      <td>3</td>\n",
       "      <td>Alipurduar</td>\n",
       "      <td>Zomato</td>\n",
       "      <td>Positive</td>\n",
       "    </tr>\n",
       "    <tr>\n",
       "      <th>7</th>\n",
       "      <td>26</td>\n",
       "      <td>Female</td>\n",
       "      <td>Unmarried</td>\n",
       "      <td>Service</td>\n",
       "      <td>Graduation</td>\n",
       "      <td>4</td>\n",
       "      <td>Alipurduar</td>\n",
       "      <td>Zomato</td>\n",
       "      <td>Positive</td>\n",
       "    </tr>\n",
       "    <tr>\n",
       "      <th>8</th>\n",
       "      <td>28</td>\n",
       "      <td>Male</td>\n",
       "      <td>Unmarried</td>\n",
       "      <td>Service</td>\n",
       "      <td>Graduation</td>\n",
       "      <td>5</td>\n",
       "      <td>Dinhata</td>\n",
       "      <td>Zomato</td>\n",
       "      <td>Positive</td>\n",
       "    </tr>\n",
       "    <tr>\n",
       "      <th>9</th>\n",
       "      <td>20</td>\n",
       "      <td>Female</td>\n",
       "      <td>Unmarried</td>\n",
       "      <td>Student</td>\n",
       "      <td>Graduation</td>\n",
       "      <td>4</td>\n",
       "      <td>Alipurduar</td>\n",
       "      <td>Zomato</td>\n",
       "      <td>Positive</td>\n",
       "    </tr>\n",
       "  </tbody>\n",
       "</table>\n",
       "</div>"
      ],
      "text/plain": [
       "   Age  Gender Marital status Occupation Education Qualification  \\\n",
       "0   26    Male      Unmarried    Service              Graduation   \n",
       "1   21  Female      Unmarried    Student              Graduation   \n",
       "2   20    Male      Unmarried    Student              Graduation   \n",
       "3   20  Female      Unmarried    Student              Graduation   \n",
       "4   21    Male      Unmarried    Student              Graduation   \n",
       "5   20  Female      Unmarried    Student              Graduation   \n",
       "6   22    Male      Unmarried    Student              Graduation   \n",
       "7   26  Female      Unmarried    Service              Graduation   \n",
       "8   28    Male      Unmarried    Service              Graduation   \n",
       "9   20  Female      Unmarried    Student              Graduation   \n",
       "\n",
       "   Member in family       Place Which you like to prefer for online food app  \\\n",
       "0                 6  Alipurduar                                       Zomato   \n",
       "1                 3  Alipurduar                                       Zomato   \n",
       "2                 7  Coochbehar                                       Zomato   \n",
       "3                 4  Alipurduar                                       Zomato   \n",
       "4                 4  Coochbehar                                       Zomato   \n",
       "5                 4  Alipurduar                                       Zomato   \n",
       "6                 3  Alipurduar                                       Zomato   \n",
       "7                 4  Alipurduar                                       Zomato   \n",
       "8                 5     Dinhata                                       Zomato   \n",
       "9                 4  Alipurduar                                       Zomato   \n",
       "\n",
       "  Feedback of last order  \n",
       "0               Positive  \n",
       "1               Positive  \n",
       "2               Positive  \n",
       "3               Positive  \n",
       "4               Positive  \n",
       "5               Positive  \n",
       "6               Positive  \n",
       "7               Positive  \n",
       "8               Positive  \n",
       "9               Positive  "
      ]
     },
     "execution_count": 22,
     "metadata": {},
     "output_type": "execute_result"
    }
   ],
   "source": [
    "import pandas as pd\n",
    "data=pd.read_csv(\"Final_response.csv\")\n",
    "data[0:10]"
   ]
  },
  {
   "cell_type": "code",
   "execution_count": 23,
   "id": "d44d3a54",
   "metadata": {},
   "outputs": [
    {
     "data": {
      "text/html": [
       "<div>\n",
       "<style scoped>\n",
       "    .dataframe tbody tr th:only-of-type {\n",
       "        vertical-align: middle;\n",
       "    }\n",
       "\n",
       "    .dataframe tbody tr th {\n",
       "        vertical-align: top;\n",
       "    }\n",
       "\n",
       "    .dataframe thead th {\n",
       "        text-align: right;\n",
       "    }\n",
       "</style>\n",
       "<table border=\"1\" class=\"dataframe\">\n",
       "  <thead>\n",
       "    <tr style=\"text-align: right;\">\n",
       "      <th></th>\n",
       "      <th>Age</th>\n",
       "      <th>Gender</th>\n",
       "      <th>Marital status</th>\n",
       "      <th>Occupation</th>\n",
       "      <th>Education Qualification</th>\n",
       "      <th>Member in family</th>\n",
       "      <th>Place</th>\n",
       "      <th>Which you like to prefer for online food app</th>\n",
       "      <th>Feedback of last order</th>\n",
       "    </tr>\n",
       "  </thead>\n",
       "  <tbody>\n",
       "    <tr>\n",
       "      <th>95</th>\n",
       "      <td>26</td>\n",
       "      <td>Male</td>\n",
       "      <td>Unmarried</td>\n",
       "      <td>Student</td>\n",
       "      <td>Graduation</td>\n",
       "      <td>3</td>\n",
       "      <td>Alipurduar</td>\n",
       "      <td>Swiggy</td>\n",
       "      <td>Positive</td>\n",
       "    </tr>\n",
       "    <tr>\n",
       "      <th>96</th>\n",
       "      <td>32</td>\n",
       "      <td>Male</td>\n",
       "      <td>Unmarried</td>\n",
       "      <td>Student</td>\n",
       "      <td>Masters</td>\n",
       "      <td>4</td>\n",
       "      <td>Coochbehar</td>\n",
       "      <td>Zomato</td>\n",
       "      <td>Positive</td>\n",
       "    </tr>\n",
       "    <tr>\n",
       "      <th>97</th>\n",
       "      <td>20</td>\n",
       "      <td>Male</td>\n",
       "      <td>Unmarried</td>\n",
       "      <td>Student</td>\n",
       "      <td>Higher Secondary</td>\n",
       "      <td>3</td>\n",
       "      <td>Coochbehar</td>\n",
       "      <td>Zomato</td>\n",
       "      <td>Positive</td>\n",
       "    </tr>\n",
       "    <tr>\n",
       "      <th>98</th>\n",
       "      <td>20</td>\n",
       "      <td>Male</td>\n",
       "      <td>Unmarried</td>\n",
       "      <td>Student</td>\n",
       "      <td>Graduation</td>\n",
       "      <td>1</td>\n",
       "      <td>Coochbehar</td>\n",
       "      <td>Zomato</td>\n",
       "      <td>Positive</td>\n",
       "    </tr>\n",
       "    <tr>\n",
       "      <th>99</th>\n",
       "      <td>25</td>\n",
       "      <td>Male</td>\n",
       "      <td>Married</td>\n",
       "      <td>Business</td>\n",
       "      <td>Masters</td>\n",
       "      <td>4</td>\n",
       "      <td>Coochbehar</td>\n",
       "      <td>Zomato</td>\n",
       "      <td>Negative</td>\n",
       "    </tr>\n",
       "  </tbody>\n",
       "</table>\n",
       "</div>"
      ],
      "text/plain": [
       "    Age Gender Marital status Occupation Education Qualification  \\\n",
       "95   26   Male      Unmarried    Student              Graduation   \n",
       "96   32   Male      Unmarried    Student                 Masters   \n",
       "97   20   Male      Unmarried    Student        Higher Secondary   \n",
       "98   20   Male      Unmarried    Student              Graduation   \n",
       "99   25   Male        Married   Business                 Masters   \n",
       "\n",
       "    Member in family       Place Which you like to prefer for online food app  \\\n",
       "95                 3  Alipurduar                                       Swiggy   \n",
       "96                 4  Coochbehar                                       Zomato   \n",
       "97                 3  Coochbehar                                       Zomato   \n",
       "98                 1  Coochbehar                                       Zomato   \n",
       "99                 4  Coochbehar                                       Zomato   \n",
       "\n",
       "   Feedback of last order  \n",
       "95               Positive  \n",
       "96               Positive  \n",
       "97               Positive  \n",
       "98               Positive  \n",
       "99               Negative  "
      ]
     },
     "execution_count": 23,
     "metadata": {},
     "output_type": "execute_result"
    }
   ],
   "source": [
    "data[-5:]"
   ]
  },
  {
   "cell_type": "code",
   "execution_count": 24,
   "id": "acd4d577",
   "metadata": {},
   "outputs": [
    {
     "data": {
      "text/plain": [
       "0      Male\n",
       "1    Female\n",
       "2      Male\n",
       "3    Female\n",
       "4      Male\n",
       "Name: Gender, dtype: object"
      ]
     },
     "execution_count": 24,
     "metadata": {},
     "output_type": "execute_result"
    }
   ],
   "source": [
    "data['Gender'][0:5]"
   ]
  },
  {
   "cell_type": "code",
   "execution_count": 25,
   "id": "224fbec9",
   "metadata": {},
   "outputs": [
    {
     "data": {
      "text/html": [
       "<div>\n",
       "<style scoped>\n",
       "    .dataframe tbody tr th:only-of-type {\n",
       "        vertical-align: middle;\n",
       "    }\n",
       "\n",
       "    .dataframe tbody tr th {\n",
       "        vertical-align: top;\n",
       "    }\n",
       "\n",
       "    .dataframe thead th {\n",
       "        text-align: right;\n",
       "    }\n",
       "</style>\n",
       "<table border=\"1\" class=\"dataframe\">\n",
       "  <thead>\n",
       "    <tr style=\"text-align: right;\">\n",
       "      <th></th>\n",
       "      <th>Gender</th>\n",
       "      <th>Place</th>\n",
       "    </tr>\n",
       "  </thead>\n",
       "  <tbody>\n",
       "    <tr>\n",
       "      <th>0</th>\n",
       "      <td>Male</td>\n",
       "      <td>Alipurduar</td>\n",
       "    </tr>\n",
       "    <tr>\n",
       "      <th>1</th>\n",
       "      <td>Female</td>\n",
       "      <td>Alipurduar</td>\n",
       "    </tr>\n",
       "    <tr>\n",
       "      <th>2</th>\n",
       "      <td>Male</td>\n",
       "      <td>Coochbehar</td>\n",
       "    </tr>\n",
       "    <tr>\n",
       "      <th>3</th>\n",
       "      <td>Female</td>\n",
       "      <td>Alipurduar</td>\n",
       "    </tr>\n",
       "    <tr>\n",
       "      <th>4</th>\n",
       "      <td>Male</td>\n",
       "      <td>Coochbehar</td>\n",
       "    </tr>\n",
       "  </tbody>\n",
       "</table>\n",
       "</div>"
      ],
      "text/plain": [
       "   Gender       Place\n",
       "0    Male  Alipurduar\n",
       "1  Female  Alipurduar\n",
       "2    Male  Coochbehar\n",
       "3  Female  Alipurduar\n",
       "4    Male  Coochbehar"
      ]
     },
     "execution_count": 25,
     "metadata": {},
     "output_type": "execute_result"
    }
   ],
   "source": [
    "data[['Gender', 'Place']][0:5]"
   ]
  },
  {
   "cell_type": "markdown",
   "id": "17e333e4",
   "metadata": {},
   "source": [
    "### iloc mathod of dataframe"
   ]
  },
  {
   "cell_type": "markdown",
   "id": "b614fde3",
   "metadata": {},
   "source": [
    "### it takes the row index ranges as second parameter "
   ]
  },
  {
   "cell_type": "code",
   "execution_count": 26,
   "id": "0cf2a981",
   "metadata": {},
   "outputs": [
    {
     "data": {
      "text/html": [
       "<div>\n",
       "<style scoped>\n",
       "    .dataframe tbody tr th:only-of-type {\n",
       "        vertical-align: middle;\n",
       "    }\n",
       "\n",
       "    .dataframe tbody tr th {\n",
       "        vertical-align: top;\n",
       "    }\n",
       "\n",
       "    .dataframe thead th {\n",
       "        text-align: right;\n",
       "    }\n",
       "</style>\n",
       "<table border=\"1\" class=\"dataframe\">\n",
       "  <thead>\n",
       "    <tr style=\"text-align: right;\">\n",
       "      <th></th>\n",
       "      <th>Gender</th>\n",
       "      <th>Marital status</th>\n",
       "      <th>Occupation</th>\n",
       "    </tr>\n",
       "  </thead>\n",
       "  <tbody>\n",
       "    <tr>\n",
       "      <th>4</th>\n",
       "      <td>Male</td>\n",
       "      <td>Unmarried</td>\n",
       "      <td>Student</td>\n",
       "    </tr>\n",
       "    <tr>\n",
       "      <th>5</th>\n",
       "      <td>Female</td>\n",
       "      <td>Unmarried</td>\n",
       "      <td>Student</td>\n",
       "    </tr>\n",
       "    <tr>\n",
       "      <th>6</th>\n",
       "      <td>Male</td>\n",
       "      <td>Unmarried</td>\n",
       "      <td>Student</td>\n",
       "    </tr>\n",
       "    <tr>\n",
       "      <th>7</th>\n",
       "      <td>Female</td>\n",
       "      <td>Unmarried</td>\n",
       "      <td>Service</td>\n",
       "    </tr>\n",
       "    <tr>\n",
       "      <th>8</th>\n",
       "      <td>Male</td>\n",
       "      <td>Unmarried</td>\n",
       "      <td>Service</td>\n",
       "    </tr>\n",
       "  </tbody>\n",
       "</table>\n",
       "</div>"
      ],
      "text/plain": [
       "   Gender Marital status Occupation\n",
       "4    Male      Unmarried    Student\n",
       "5  Female      Unmarried    Student\n",
       "6    Male      Unmarried    Student\n",
       "7  Female      Unmarried    Service\n",
       "8    Male      Unmarried    Service"
      ]
     },
     "execution_count": 26,
     "metadata": {},
     "output_type": "execute_result"
    }
   ],
   "source": [
    "data.iloc[4:9,1:4]"
   ]
  },
  {
   "cell_type": "markdown",
   "id": "000b996c",
   "metadata": {},
   "source": [
    "### value counts and cross tabulations"
   ]
  },
  {
   "cell_type": "code",
   "execution_count": 27,
   "id": "4e2a64f3",
   "metadata": {},
   "outputs": [
    {
     "data": {
      "text/plain": [
       "Student     79\n",
       "Service     12\n",
       "Business     9\n",
       "Name: Occupation, dtype: int64"
      ]
     },
     "execution_count": 27,
     "metadata": {},
     "output_type": "execute_result"
    }
   ],
   "source": [
    "data.Occupation.value_counts()"
   ]
  },
  {
   "cell_type": "code",
   "execution_count": 28,
   "id": "5fa3b99e",
   "metadata": {},
   "outputs": [
    {
     "data": {
      "text/plain": [
       "Student     79.0\n",
       "Service     12.0\n",
       "Business     9.0\n",
       "Name: Occupation, dtype: float64"
      ]
     },
     "execution_count": 28,
     "metadata": {},
     "output_type": "execute_result"
    }
   ],
   "source": [
    "data.Occupation.value_counts(normalize=True)*100"
   ]
  },
  {
   "cell_type": "markdown",
   "id": "8ffbcad8",
   "metadata": {},
   "source": [
    "### Cross tabulation"
   ]
  },
  {
   "cell_type": "code",
   "execution_count": 2,
   "id": "a8285b09",
   "metadata": {},
   "outputs": [
    {
     "data": {
      "text/html": [
       "<div>\n",
       "<style scoped>\n",
       "    .dataframe tbody tr th:only-of-type {\n",
       "        vertical-align: middle;\n",
       "    }\n",
       "\n",
       "    .dataframe tbody tr th {\n",
       "        vertical-align: top;\n",
       "    }\n",
       "\n",
       "    .dataframe thead th {\n",
       "        text-align: right;\n",
       "    }\n",
       "</style>\n",
       "<table border=\"1\" class=\"dataframe\">\n",
       "  <thead>\n",
       "    <tr style=\"text-align: right;\">\n",
       "      <th>Feedback of last order</th>\n",
       "      <th>Negative</th>\n",
       "      <th>Positive</th>\n",
       "    </tr>\n",
       "    <tr>\n",
       "      <th>Occupation</th>\n",
       "      <th></th>\n",
       "      <th></th>\n",
       "    </tr>\n",
       "  </thead>\n",
       "  <tbody>\n",
       "    <tr>\n",
       "      <th>Business</th>\n",
       "      <td>4</td>\n",
       "      <td>5</td>\n",
       "    </tr>\n",
       "    <tr>\n",
       "      <th>Service</th>\n",
       "      <td>1</td>\n",
       "      <td>11</td>\n",
       "    </tr>\n",
       "    <tr>\n",
       "      <th>Student</th>\n",
       "      <td>9</td>\n",
       "      <td>70</td>\n",
       "    </tr>\n",
       "  </tbody>\n",
       "</table>\n",
       "</div>"
      ],
      "text/plain": [
       "Feedback of last order  Negative  Positive\n",
       "Occupation                                \n",
       "Business                       4         5\n",
       "Service                        1        11\n",
       "Student                        9        70"
      ]
     },
     "execution_count": 2,
     "metadata": {},
     "output_type": "execute_result"
    }
   ],
   "source": [
    "pd.crosstab(data['Occupation'],data['Feedback of last order'])"
   ]
  },
  {
   "cell_type": "markdown",
   "id": "71782cca",
   "metadata": {},
   "source": [
    "### NULL CHECKING in the data frame"
   ]
  },
  {
   "cell_type": "code",
   "execution_count": 3,
   "id": "e9c3ec4e",
   "metadata": {
    "scrolled": true
   },
   "outputs": [
    {
     "data": {
      "text/plain": [
       "Age                                             0\n",
       "Gender                                          0\n",
       "Marital status                                  0\n",
       "Occupation                                      0\n",
       "Education Qualification                         0\n",
       "Member in family                                0\n",
       "Place                                           0\n",
       "Which you like to prefer for online food app    0\n",
       "Feedback of last order                          0\n",
       "dtype: int64"
      ]
     },
     "execution_count": 3,
     "metadata": {},
     "output_type": "execute_result"
    }
   ],
   "source": [
    "data.isna().sum()"
   ]
  },
  {
   "cell_type": "markdown",
   "id": "6dfc83d0",
   "metadata": {},
   "source": [
    "### grouping and aggregating"
   ]
  },
  {
   "cell_type": "code",
   "execution_count": 4,
   "id": "1e706292",
   "metadata": {},
   "outputs": [
    {
     "data": {
      "text/plain": [
       "Which you like to prefer for online food app\n",
       "Swiggy    3.88\n",
       "Zomato    4.20\n",
       "Name: Member in family, dtype: float64"
      ]
     },
     "execution_count": 4,
     "metadata": {},
     "output_type": "execute_result"
    }
   ],
   "source": [
    "import pandas as pd\n",
    "data=pd.read_csv(\"Final_response.csv\")\n",
    "data.groupby('Which you like to prefer for online food app')['Member in family'].mean()\n"
   ]
  },
  {
   "cell_type": "markdown",
   "id": "c2031ec8",
   "metadata": {},
   "source": [
    "### we determining the feedback from the male or female of the whole data set"
   ]
  },
  {
   "cell_type": "code",
   "execution_count": 5,
   "id": "91ac75a1",
   "metadata": {},
   "outputs": [
    {
     "data": {
      "image/png": "[encoded data removed]",
      "text/plain": [
       "<Figure size 1500x1000 with 1 Axes>"
      ]
     },
     "metadata": {},
     "output_type": "display_data"
    }
   ],
   "source": [
    "dataframe =pd.read_csv(\"Final_response.csv\")\n",
    "plt.figure(figsize=(15,10))\n",
    "plt.title(\"ONLINE FOOD DELIVERY Gender WISE DELIVERY FEEDBACK\")\n",
    "sns.histplot(data=dataframe, x=\"Gender\",hue=\"Feedback of last order\")\n",
    "plt.show()\n"
   ]
  },
  {
   "cell_type": "markdown",
   "id": "aecf366a",
   "metadata": {},
   "source": [
    "### density plot"
   ]
  },
  {
   "cell_type": "code",
   "execution_count": 6,
   "id": "9eff7579",
   "metadata": {},
   "outputs": [
    {
     "name": "stderr",
     "output_type": "stream",
     "text": [
      "C:\\Users\\ARIJIT ROY\\PYTHON-ANACONDA\\lib\\site-packages\\seaborn\\distributions.py:2619: FutureWarning: `distplot` is a deprecated function and will be removed in a future version. Please adapt your code to use either `displot` (a figure-level function with similar flexibility) or `histplot` (an axes-level function for histograms).\n",
      "  warnings.warn(msg, FutureWarning)\n"
     ]
    },
    {
     "data": {
      "image/png": "[encoded data removed]",
      "text/plain": [
       "<Figure size 1500x1000 with 1 Axes>"
      ]
     },
     "metadata": {},
     "output_type": "display_data"
    }
   ],
   "source": [
    "import pandas as pd \n",
    "import matplotlib.pyplot as plt\n",
    "import seaborn as sns\n",
    "data =pd.read_csv(\"Final_response.csv\")\n",
    "plt.figure(figsize=(15,10))\n",
    "plt.title(\"Most used by the family\")\n",
    "sns.distplot(data['Member in family'])\n",
    "plt.show()"
   ]
  },
  {
   "cell_type": "markdown",
   "id": "8ed2e290",
   "metadata": {},
   "source": [
    "### boxplot\n",
    "1. lower quartile(1st quartile), median and upper quartile (3rd quartile)\n",
    "2. lowest and highest values \n",
    "3. inter-quartile range (iqr)\n",
    "25% for 1st quartile and 75% for 3rd quartile"
   ]
  },
  {
   "cell_type": "code",
   "execution_count": 8,
   "id": "5c209bf9",
   "metadata": {},
   "outputs": [
    {
     "name": "stdout",
     "output_type": "stream",
     "text": [
      "<class 'pandas.core.frame.DataFrame'>\n",
      "RangeIndex: 100 entries, 0 to 99\n",
      "Data columns (total 9 columns):\n",
      " #   Column                                        Non-Null Count  Dtype \n",
      "---  ------                                        --------------  ----- \n",
      " 0   Age                                           100 non-null    int64 \n",
      " 1   Gender                                        100 non-null    object\n",
      " 2   Marital status                                100 non-null    object\n",
      " 3   Occupation                                    100 non-null    object\n",
      " 4   Education Qualification                       100 non-null    object\n",
      " 5   Member in family                              100 non-null    int64 \n",
      " 6   Place                                         100 non-null    object\n",
      " 7   Which you like to prefer for online food app  100 non-null    object\n",
      " 8   Feedback of last order                        100 non-null    object\n",
      "dtypes: int64(2), object(7)\n",
      "memory usage: 7.2+ KB\n"
     ]
    }
   ],
   "source": [
    "data.info()"
   ]
  },
  {
   "cell_type": "code",
   "execution_count": 9,
   "id": "b3d1be0b",
   "metadata": {},
   "outputs": [
    {
     "data": {
      "text/html": [
       "<div>\n",
       "<style scoped>\n",
       "    .dataframe tbody tr th:only-of-type {\n",
       "        vertical-align: middle;\n",
       "    }\n",
       "\n",
       "    .dataframe tbody tr th {\n",
       "        vertical-align: top;\n",
       "    }\n",
       "\n",
       "    .dataframe thead th {\n",
       "        text-align: right;\n",
       "    }\n",
       "</style>\n",
       "<table border=\"1\" class=\"dataframe\">\n",
       "  <thead>\n",
       "    <tr style=\"text-align: right;\">\n",
       "      <th></th>\n",
       "      <th>Age</th>\n",
       "      <th>Gender</th>\n",
       "      <th>Marital status</th>\n",
       "      <th>Occupation</th>\n",
       "      <th>Education Qualification</th>\n",
       "      <th>Member in family</th>\n",
       "      <th>Place</th>\n",
       "      <th>Which you like to prefer for online food app</th>\n",
       "      <th>Feedback of last order</th>\n",
       "    </tr>\n",
       "  </thead>\n",
       "  <tbody>\n",
       "    <tr>\n",
       "      <th>95</th>\n",
       "      <td>26</td>\n",
       "      <td>Male</td>\n",
       "      <td>Unmarried</td>\n",
       "      <td>Student</td>\n",
       "      <td>Graduation</td>\n",
       "      <td>3</td>\n",
       "      <td>Alipurduar</td>\n",
       "      <td>Swiggy</td>\n",
       "      <td>Positive</td>\n",
       "    </tr>\n",
       "    <tr>\n",
       "      <th>96</th>\n",
       "      <td>32</td>\n",
       "      <td>Male</td>\n",
       "      <td>Unmarried</td>\n",
       "      <td>Student</td>\n",
       "      <td>Masters</td>\n",
       "      <td>4</td>\n",
       "      <td>Coochbehar</td>\n",
       "      <td>Zomato</td>\n",
       "      <td>Positive</td>\n",
       "    </tr>\n",
       "    <tr>\n",
       "      <th>97</th>\n",
       "      <td>20</td>\n",
       "      <td>Male</td>\n",
       "      <td>Unmarried</td>\n",
       "      <td>Student</td>\n",
       "      <td>Higher Secondary</td>\n",
       "      <td>3</td>\n",
       "      <td>Coochbehar</td>\n",
       "      <td>Zomato</td>\n",
       "      <td>Positive</td>\n",
       "    </tr>\n",
       "    <tr>\n",
       "      <th>98</th>\n",
       "      <td>20</td>\n",
       "      <td>Male</td>\n",
       "      <td>Unmarried</td>\n",
       "      <td>Student</td>\n",
       "      <td>Graduation</td>\n",
       "      <td>1</td>\n",
       "      <td>Coochbehar</td>\n",
       "      <td>Zomato</td>\n",
       "      <td>Positive</td>\n",
       "    </tr>\n",
       "    <tr>\n",
       "      <th>99</th>\n",
       "      <td>25</td>\n",
       "      <td>Male</td>\n",
       "      <td>Married</td>\n",
       "      <td>Business</td>\n",
       "      <td>Masters</td>\n",
       "      <td>4</td>\n",
       "      <td>Coochbehar</td>\n",
       "      <td>Zomato</td>\n",
       "      <td>Negative</td>\n",
       "    </tr>\n",
       "  </tbody>\n",
       "</table>\n",
       "</div>"
      ],
      "text/plain": [
       "    Age Gender Marital status Occupation Education Qualification  \\\n",
       "95   26   Male      Unmarried    Student              Graduation   \n",
       "96   32   Male      Unmarried    Student                 Masters   \n",
       "97   20   Male      Unmarried    Student        Higher Secondary   \n",
       "98   20   Male      Unmarried    Student              Graduation   \n",
       "99   25   Male        Married   Business                 Masters   \n",
       "\n",
       "    Member in family       Place Which you like to prefer for online food app  \\\n",
       "95                 3  Alipurduar                                       Swiggy   \n",
       "96                 4  Coochbehar                                       Zomato   \n",
       "97                 3  Coochbehar                                       Zomato   \n",
       "98                 1  Coochbehar                                       Zomato   \n",
       "99                 4  Coochbehar                                       Zomato   \n",
       "\n",
       "   Feedback of last order  \n",
       "95               Positive  \n",
       "96               Positive  \n",
       "97               Positive  \n",
       "98               Positive  \n",
       "99               Negative  "
      ]
     },
     "execution_count": 9,
     "metadata": {},
     "output_type": "execute_result"
    }
   ],
   "source": [
    "data.tail()"
   ]
  },
  {
   "cell_type": "code",
   "execution_count": 12,
   "id": "50bd48bd",
   "metadata": {},
   "outputs": [
    {
     "name": "stderr",
     "output_type": "stream",
     "text": [
      "C:\\Users\\ARIJIT ROY\\PYTHON-ANACONDA\\lib\\site-packages\\seaborn\\_decorators.py:36: FutureWarning: Pass the following variable as a keyword arg: x. From version 0.12, the only valid positional argument will be `data`, and passing other arguments without an explicit keyword will result in an error or misinterpretation.\n",
      "  warnings.warn(\n"
     ]
    },
    {
     "data": {
      "image/png": "[encoded data removed]",
      "text/plain": [
       "<Figure size 640x480 with 1 Axes>"
      ]
     },
     "metadata": {},
     "output_type": "display_data"
    }
   ],
   "source": [
    "box=sns.boxplot(data['Age'])"
   ]
  },
  {
   "cell_type": "markdown",
   "id": "1f49fd55",
   "metadata": {},
   "source": [
    "### Tested Report\n",
    "Here the median is 21 and thew highest outlier is 40-45. The highest value is 25, lowest value is 19"
   ]
  },
  {
   "cell_type": "markdown",
   "id": "16208e68",
   "metadata": {},
   "source": [
    "### comparing the data between age and most app used"
   ]
  },
  {
   "cell_type": "code",
   "execution_count": 31,
   "id": "ff23d42b",
   "metadata": {
    "scrolled": true
   },
   "outputs": [
    {
     "data": {
      "text/plain": [
       "<Axes: xlabel='Which you like to prefer for online food app', ylabel='Age '>"
      ]
     },
     "execution_count": 31,
     "metadata": {},
     "output_type": "execute_result"
    },
    {
     "data": {
      "image/png": "[encoded data removed]",
      "text/plain": [
       "<Figure size 640x480 with 1 Axes>"
      ]
     },
     "metadata": {},
     "output_type": "display_data"
    }
   ],
   "source": [
    "sns.boxplot(x='Which you like to prefer for online food app',y='Age ',data=data)\n"
   ]
  },
  {
   "cell_type": "markdown",
   "id": "9d60e564",
   "metadata": {},
   "source": [
    "### Tested Report\n"
   ]
  },
  {
   "cell_type": "markdown",
   "id": "c85cc3ba",
   "metadata": {},
   "source": [
    "### Zomato is most friendly app other than swiggy"
   ]
  },
  {
   "cell_type": "code",
   "execution_count": 9,
   "id": "d75f0f2c",
   "metadata": {},
   "outputs": [
    {
     "name": "stdout",
     "output_type": "stream",
     "text": [
      "<class 'pandas.core.frame.DataFrame'>\n",
      "RangeIndex: 100 entries, 0 to 99\n",
      "Data columns (total 9 columns):\n",
      " #   Column                                        Non-Null Count  Dtype \n",
      "---  ------                                        --------------  ----- \n",
      " 0   Age                                           100 non-null    int64 \n",
      " 1   Gender                                        100 non-null    object\n",
      " 2   Marital status                                100 non-null    object\n",
      " 3   Occupation                                    100 non-null    object\n",
      " 4   Education Qualification                       100 non-null    object\n",
      " 5   Member in family                              100 non-null    int64 \n",
      " 6   Place                                         100 non-null    object\n",
      " 7   Which you like to prefer for online food app  100 non-null    object\n",
      " 8   Feedback of last order                        100 non-null    object\n",
      "dtypes: int64(2), object(7)\n",
      "memory usage: 7.2+ KB\n",
      "None\n"
     ]
    }
   ],
   "source": [
    "import pandas as pd \n",
    "import matplotlib.pyplot as plt\n",
    "import seaborn as sns\n",
    "data =pd.read_csv(\"Final_response.csv\")\n",
    "print(data.info())"
   ]
  },
  {
   "cell_type": "markdown",
   "id": "256d6bf8",
   "metadata": {},
   "source": [
    "### Pair plot"
   ]
  },
  {
   "cell_type": "code",
   "execution_count": 8,
   "id": "537a63e0",
   "metadata": {},
   "outputs": [
    {
     "data": {
      "text/plain": [
       "<seaborn.axisgrid.PairGrid at 0x20d58e13250>"
      ]
     },
     "execution_count": 8,
     "metadata": {},
     "output_type": "execute_result"
    },
    {
     "data": {
      "image/png": "[encoded data removed]",
      "text/plain": [
       "<Figure size 400x400 with 6 Axes>"
      ]
     },
     "metadata": {},
     "output_type": "display_data"
    }
   ],
   "source": [
    "influence_feature =['Age','Member in family']\n",
    "sns.pairplot(data[influence_feature],height=2)"
   ]
  },
  {
   "cell_type": "markdown",
   "id": "2c101c6a",
   "metadata": {},
   "source": [
    "### correlation and heat map\n",
    "correlation is used for measuring the strength and direction of the linear relationship between continuous random varibles x and y.it is a statistical measure that indicates the extent to which variables change together \n",
    "     The correlation value lies between -1.0 and 1.0 which indicates positive and negative correlation (perfect)"
   ]
  },
  {
   "cell_type": "code",
   "execution_count": 9,
   "id": "45379bd5",
   "metadata": {},
   "outputs": [
    {
     "data": {
      "text/html": [
       "<div>\n",
       "<style scoped>\n",
       "    .dataframe tbody tr th:only-of-type {\n",
       "        vertical-align: middle;\n",
       "    }\n",
       "\n",
       "    .dataframe tbody tr th {\n",
       "        vertical-align: top;\n",
       "    }\n",
       "\n",
       "    .dataframe thead th {\n",
       "        text-align: right;\n",
       "    }\n",
       "</style>\n",
       "<table border=\"1\" class=\"dataframe\">\n",
       "  <thead>\n",
       "    <tr style=\"text-align: right;\">\n",
       "      <th></th>\n",
       "      <th>Age</th>\n",
       "      <th>Member in family</th>\n",
       "    </tr>\n",
       "  </thead>\n",
       "  <tbody>\n",
       "    <tr>\n",
       "      <th>Age</th>\n",
       "      <td>1.000000</td>\n",
       "      <td>0.037748</td>\n",
       "    </tr>\n",
       "    <tr>\n",
       "      <th>Member in family</th>\n",
       "      <td>0.037748</td>\n",
       "      <td>1.000000</td>\n",
       "    </tr>\n",
       "  </tbody>\n",
       "</table>\n",
       "</div>"
      ],
      "text/plain": [
       "                       Age  Member in family\n",
       "Age               1.000000          0.037748\n",
       "Member in family  0.037748          1.000000"
      ]
     },
     "execution_count": 9,
     "metadata": {},
     "output_type": "execute_result"
    }
   ],
   "source": [
    "data[influence_feature].corr()"
   ]
  },
  {
   "cell_type": "code",
   "execution_count": 10,
   "id": "f521c80a",
   "metadata": {},
   "outputs": [
    {
     "data": {
      "text/plain": [
       "<AxesSubplot:>"
      ]
     },
     "execution_count": 10,
     "metadata": {},
     "output_type": "execute_result"
    },
    {
     "data": {
      "image/png": "[encoded data removed]",
      "text/plain": [
       "<Figure size 640x480 with 2 Axes>"
      ]
     },
     "metadata": {},
     "output_type": "display_data"
    }
   ],
   "source": [
    "sns.heatmap (data[influence_feature].corr(),annot=True)"
   ]
  },
  {
   "cell_type": "code",
   "execution_count": 11,
   "id": "bb34879f",
   "metadata": {},
   "outputs": [
    {
     "name": "stdout",
     "output_type": "stream",
     "text": [
      "<class 'pandas.core.frame.DataFrame'>\n",
      "RangeIndex: 100 entries, 0 to 99\n",
      "Data columns (total 9 columns):\n",
      " #   Column                                        Non-Null Count  Dtype \n",
      "---  ------                                        --------------  ----- \n",
      " 0   Age                                           100 non-null    int64 \n",
      " 1   Gender                                        100 non-null    object\n",
      " 2   Marital status                                100 non-null    object\n",
      " 3   Occupation                                    100 non-null    object\n",
      " 4   Education Qualification                       100 non-null    object\n",
      " 5   Member in family                              100 non-null    int64 \n",
      " 6   Place                                         100 non-null    object\n",
      " 7   Which you like to prefer for online food app  100 non-null    object\n",
      " 8   Feedback of last order                        100 non-null    object\n",
      "dtypes: int64(2), object(7)\n",
      "memory usage: 7.2+ KB\n",
      "None\n"
     ]
    }
   ],
   "source": [
    "import pandas as pd\n",
    "data=data =pd.read_csv(\"Final_response.csv\")\n",
    "print(data.info())"
   ]
  },
  {
   "cell_type": "code",
   "execution_count": 12,
   "id": "af14ccf2",
   "metadata": {},
   "outputs": [
    {
     "data": {
      "text/html": [
       "<div>\n",
       "<style scoped>\n",
       "    .dataframe tbody tr th:only-of-type {\n",
       "        vertical-align: middle;\n",
       "    }\n",
       "\n",
       "    .dataframe tbody tr th {\n",
       "        vertical-align: top;\n",
       "    }\n",
       "\n",
       "    .dataframe thead th {\n",
       "        text-align: right;\n",
       "    }\n",
       "</style>\n",
       "<table border=\"1\" class=\"dataframe\">\n",
       "  <thead>\n",
       "    <tr style=\"text-align: right;\">\n",
       "      <th></th>\n",
       "      <th>Age</th>\n",
       "      <th>Gender</th>\n",
       "      <th>Marital status</th>\n",
       "      <th>Occupation</th>\n",
       "      <th>Education Qualification</th>\n",
       "      <th>Member in family</th>\n",
       "      <th>Place</th>\n",
       "      <th>Which you like to prefer for online food app</th>\n",
       "      <th>Feedback of last order</th>\n",
       "    </tr>\n",
       "  </thead>\n",
       "  <tbody>\n",
       "    <tr>\n",
       "      <th>0</th>\n",
       "      <td>26</td>\n",
       "      <td>Male</td>\n",
       "      <td>Unmarried</td>\n",
       "      <td>Service</td>\n",
       "      <td>Graduation</td>\n",
       "      <td>6</td>\n",
       "      <td>Alipurduar</td>\n",
       "      <td>Zomato</td>\n",
       "      <td>Positive</td>\n",
       "    </tr>\n",
       "    <tr>\n",
       "      <th>1</th>\n",
       "      <td>21</td>\n",
       "      <td>Female</td>\n",
       "      <td>Unmarried</td>\n",
       "      <td>Student</td>\n",
       "      <td>Graduation</td>\n",
       "      <td>3</td>\n",
       "      <td>Alipurduar</td>\n",
       "      <td>Zomato</td>\n",
       "      <td>Positive</td>\n",
       "    </tr>\n",
       "    <tr>\n",
       "      <th>2</th>\n",
       "      <td>20</td>\n",
       "      <td>Male</td>\n",
       "      <td>Unmarried</td>\n",
       "      <td>Student</td>\n",
       "      <td>Graduation</td>\n",
       "      <td>7</td>\n",
       "      <td>Coochbehar</td>\n",
       "      <td>Zomato</td>\n",
       "      <td>Positive</td>\n",
       "    </tr>\n",
       "    <tr>\n",
       "      <th>3</th>\n",
       "      <td>20</td>\n",
       "      <td>Female</td>\n",
       "      <td>Unmarried</td>\n",
       "      <td>Student</td>\n",
       "      <td>Graduation</td>\n",
       "      <td>4</td>\n",
       "      <td>Alipurduar</td>\n",
       "      <td>Zomato</td>\n",
       "      <td>Positive</td>\n",
       "    </tr>\n",
       "    <tr>\n",
       "      <th>4</th>\n",
       "      <td>21</td>\n",
       "      <td>Male</td>\n",
       "      <td>Unmarried</td>\n",
       "      <td>Student</td>\n",
       "      <td>Graduation</td>\n",
       "      <td>4</td>\n",
       "      <td>Coochbehar</td>\n",
       "      <td>Zomato</td>\n",
       "      <td>Positive</td>\n",
       "    </tr>\n",
       "    <tr>\n",
       "      <th>5</th>\n",
       "      <td>20</td>\n",
       "      <td>Female</td>\n",
       "      <td>Unmarried</td>\n",
       "      <td>Student</td>\n",
       "      <td>Graduation</td>\n",
       "      <td>4</td>\n",
       "      <td>Alipurduar</td>\n",
       "      <td>Zomato</td>\n",
       "      <td>Positive</td>\n",
       "    </tr>\n",
       "    <tr>\n",
       "      <th>6</th>\n",
       "      <td>22</td>\n",
       "      <td>Male</td>\n",
       "      <td>Unmarried</td>\n",
       "      <td>Student</td>\n",
       "      <td>Graduation</td>\n",
       "      <td>3</td>\n",
       "      <td>Alipurduar</td>\n",
       "      <td>Zomato</td>\n",
       "      <td>Positive</td>\n",
       "    </tr>\n",
       "    <tr>\n",
       "      <th>7</th>\n",
       "      <td>26</td>\n",
       "      <td>Female</td>\n",
       "      <td>Unmarried</td>\n",
       "      <td>Service</td>\n",
       "      <td>Graduation</td>\n",
       "      <td>4</td>\n",
       "      <td>Alipurduar</td>\n",
       "      <td>Zomato</td>\n",
       "      <td>Positive</td>\n",
       "    </tr>\n",
       "    <tr>\n",
       "      <th>8</th>\n",
       "      <td>28</td>\n",
       "      <td>Male</td>\n",
       "      <td>Unmarried</td>\n",
       "      <td>Service</td>\n",
       "      <td>Graduation</td>\n",
       "      <td>5</td>\n",
       "      <td>Dinhata</td>\n",
       "      <td>Zomato</td>\n",
       "      <td>Positive</td>\n",
       "    </tr>\n",
       "    <tr>\n",
       "      <th>9</th>\n",
       "      <td>20</td>\n",
       "      <td>Female</td>\n",
       "      <td>Unmarried</td>\n",
       "      <td>Student</td>\n",
       "      <td>Graduation</td>\n",
       "      <td>4</td>\n",
       "      <td>Alipurduar</td>\n",
       "      <td>Zomato</td>\n",
       "      <td>Positive</td>\n",
       "    </tr>\n",
       "    <tr>\n",
       "      <th>10</th>\n",
       "      <td>20</td>\n",
       "      <td>Male</td>\n",
       "      <td>Unmarried</td>\n",
       "      <td>Student</td>\n",
       "      <td>Higher Secondary</td>\n",
       "      <td>5</td>\n",
       "      <td>Mathabhanga</td>\n",
       "      <td>Swiggy</td>\n",
       "      <td>Negative</td>\n",
       "    </tr>\n",
       "    <tr>\n",
       "      <th>11</th>\n",
       "      <td>20</td>\n",
       "      <td>Female</td>\n",
       "      <td>Unmarried</td>\n",
       "      <td>Student</td>\n",
       "      <td>Higher Secondary</td>\n",
       "      <td>4</td>\n",
       "      <td>Coochbehar</td>\n",
       "      <td>Swiggy</td>\n",
       "      <td>Negative</td>\n",
       "    </tr>\n",
       "    <tr>\n",
       "      <th>12</th>\n",
       "      <td>25</td>\n",
       "      <td>Male</td>\n",
       "      <td>Unmarried</td>\n",
       "      <td>Service</td>\n",
       "      <td>Graduation</td>\n",
       "      <td>3</td>\n",
       "      <td>Coochbehar</td>\n",
       "      <td>Swiggy</td>\n",
       "      <td>Positive</td>\n",
       "    </tr>\n",
       "    <tr>\n",
       "      <th>13</th>\n",
       "      <td>30</td>\n",
       "      <td>Female</td>\n",
       "      <td>Married</td>\n",
       "      <td>Business</td>\n",
       "      <td>Masters</td>\n",
       "      <td>4</td>\n",
       "      <td>Jalpaiguri</td>\n",
       "      <td>Swiggy</td>\n",
       "      <td>Positive</td>\n",
       "    </tr>\n",
       "    <tr>\n",
       "      <th>14</th>\n",
       "      <td>21</td>\n",
       "      <td>Male</td>\n",
       "      <td>Unmarried</td>\n",
       "      <td>Student</td>\n",
       "      <td>Graduation</td>\n",
       "      <td>3</td>\n",
       "      <td>Alipurduar</td>\n",
       "      <td>Zomato</td>\n",
       "      <td>Positive</td>\n",
       "    </tr>\n",
       "    <tr>\n",
       "      <th>15</th>\n",
       "      <td>21</td>\n",
       "      <td>Female</td>\n",
       "      <td>Unmarried</td>\n",
       "      <td>Student</td>\n",
       "      <td>Graduation</td>\n",
       "      <td>3</td>\n",
       "      <td>Alipurduar</td>\n",
       "      <td>Zomato</td>\n",
       "      <td>Positive</td>\n",
       "    </tr>\n",
       "    <tr>\n",
       "      <th>16</th>\n",
       "      <td>21</td>\n",
       "      <td>Male</td>\n",
       "      <td>Unmarried</td>\n",
       "      <td>Student</td>\n",
       "      <td>Graduation</td>\n",
       "      <td>4</td>\n",
       "      <td>Coochbehar</td>\n",
       "      <td>Swiggy</td>\n",
       "      <td>Positive</td>\n",
       "    </tr>\n",
       "    <tr>\n",
       "      <th>17</th>\n",
       "      <td>21</td>\n",
       "      <td>Female</td>\n",
       "      <td>Unmarried</td>\n",
       "      <td>Student</td>\n",
       "      <td>Higher Secondary</td>\n",
       "      <td>3</td>\n",
       "      <td>Coochbehar</td>\n",
       "      <td>Zomato</td>\n",
       "      <td>Negative</td>\n",
       "    </tr>\n",
       "    <tr>\n",
       "      <th>18</th>\n",
       "      <td>20</td>\n",
       "      <td>Male</td>\n",
       "      <td>Unmarried</td>\n",
       "      <td>Student</td>\n",
       "      <td>Higher Secondary</td>\n",
       "      <td>4</td>\n",
       "      <td>Coochbehar</td>\n",
       "      <td>Zomato</td>\n",
       "      <td>Positive</td>\n",
       "    </tr>\n",
       "    <tr>\n",
       "      <th>19</th>\n",
       "      <td>20</td>\n",
       "      <td>Female</td>\n",
       "      <td>Unmarried</td>\n",
       "      <td>Student</td>\n",
       "      <td>Higher Secondary</td>\n",
       "      <td>4</td>\n",
       "      <td>Coochbehar</td>\n",
       "      <td>Zomato</td>\n",
       "      <td>Positive</td>\n",
       "    </tr>\n",
       "    <tr>\n",
       "      <th>20</th>\n",
       "      <td>27</td>\n",
       "      <td>Male</td>\n",
       "      <td>Married</td>\n",
       "      <td>Service</td>\n",
       "      <td>Secondary</td>\n",
       "      <td>3</td>\n",
       "      <td>Coochbehar</td>\n",
       "      <td>Zomato</td>\n",
       "      <td>Negative</td>\n",
       "    </tr>\n",
       "    <tr>\n",
       "      <th>21</th>\n",
       "      <td>21</td>\n",
       "      <td>Female</td>\n",
       "      <td>Unmarried</td>\n",
       "      <td>Student</td>\n",
       "      <td>GNM Nursing student</td>\n",
       "      <td>3</td>\n",
       "      <td>Coochbehar</td>\n",
       "      <td>Zomato</td>\n",
       "      <td>Positive</td>\n",
       "    </tr>\n",
       "    <tr>\n",
       "      <th>22</th>\n",
       "      <td>28</td>\n",
       "      <td>Male</td>\n",
       "      <td>Unmarried</td>\n",
       "      <td>Business</td>\n",
       "      <td>PHD</td>\n",
       "      <td>1</td>\n",
       "      <td>Coochbehar</td>\n",
       "      <td>Zomato</td>\n",
       "      <td>Positive</td>\n",
       "    </tr>\n",
       "  </tbody>\n",
       "</table>\n",
       "</div>"
      ],
      "text/plain": [
       "    Age  Gender Marital status Occupation Education Qualification  \\\n",
       "0    26    Male      Unmarried    Service              Graduation   \n",
       "1    21  Female      Unmarried    Student              Graduation   \n",
       "2    20    Male      Unmarried    Student              Graduation   \n",
       "3    20  Female      Unmarried    Student              Graduation   \n",
       "4    21    Male      Unmarried    Student              Graduation   \n",
       "5    20  Female      Unmarried    Student              Graduation   \n",
       "6    22    Male      Unmarried    Student              Graduation   \n",
       "7    26  Female      Unmarried    Service              Graduation   \n",
       "8    28    Male      Unmarried    Service              Graduation   \n",
       "9    20  Female      Unmarried    Student              Graduation   \n",
       "10   20    Male      Unmarried    Student        Higher Secondary   \n",
       "11   20  Female      Unmarried    Student        Higher Secondary   \n",
       "12   25    Male      Unmarried    Service              Graduation   \n",
       "13   30  Female        Married   Business                 Masters   \n",
       "14   21    Male      Unmarried    Student              Graduation   \n",
       "15   21  Female      Unmarried    Student              Graduation   \n",
       "16   21    Male      Unmarried    Student              Graduation   \n",
       "17   21  Female      Unmarried    Student        Higher Secondary   \n",
       "18   20    Male      Unmarried    Student        Higher Secondary   \n",
       "19   20  Female      Unmarried    Student        Higher Secondary   \n",
       "20   27    Male        Married    Service               Secondary   \n",
       "21   21  Female      Unmarried    Student    GNM Nursing student    \n",
       "22   28    Male      Unmarried   Business                     PHD   \n",
       "\n",
       "    Member in family         Place  \\\n",
       "0                  6    Alipurduar   \n",
       "1                  3    Alipurduar   \n",
       "2                  7    Coochbehar   \n",
       "3                  4    Alipurduar   \n",
       "4                  4    Coochbehar   \n",
       "5                  4    Alipurduar   \n",
       "6                  3    Alipurduar   \n",
       "7                  4    Alipurduar   \n",
       "8                  5       Dinhata   \n",
       "9                  4    Alipurduar   \n",
       "10                 5  Mathabhanga    \n",
       "11                 4    Coochbehar   \n",
       "12                 3    Coochbehar   \n",
       "13                 4   Jalpaiguri    \n",
       "14                 3    Alipurduar   \n",
       "15                 3    Alipurduar   \n",
       "16                 4    Coochbehar   \n",
       "17                 3    Coochbehar   \n",
       "18                 4    Coochbehar   \n",
       "19                 4    Coochbehar   \n",
       "20                 3    Coochbehar   \n",
       "21                 3    Coochbehar   \n",
       "22                 1    Coochbehar   \n",
       "\n",
       "   Which you like to prefer for online food app Feedback of last order  \n",
       "0                                        Zomato               Positive  \n",
       "1                                        Zomato               Positive  \n",
       "2                                        Zomato               Positive  \n",
       "3                                        Zomato               Positive  \n",
       "4                                        Zomato               Positive  \n",
       "5                                        Zomato               Positive  \n",
       "6                                        Zomato               Positive  \n",
       "7                                        Zomato               Positive  \n",
       "8                                        Zomato               Positive  \n",
       "9                                        Zomato               Positive  \n",
       "10                                       Swiggy               Negative  \n",
       "11                                       Swiggy               Negative  \n",
       "12                                       Swiggy               Positive  \n",
       "13                                       Swiggy               Positive  \n",
       "14                                       Zomato               Positive  \n",
       "15                                       Zomato               Positive  \n",
       "16                                       Swiggy               Positive  \n",
       "17                                       Zomato               Negative  \n",
       "18                                       Zomato               Positive  \n",
       "19                                       Zomato               Positive  \n",
       "20                                       Zomato               Negative  \n",
       "21                                       Zomato               Positive  \n",
       "22                                       Zomato               Positive  "
      ]
     },
     "execution_count": 12,
     "metadata": {},
     "output_type": "execute_result"
    }
   ],
   "source": [
    "data.head(23)"
   ]
  },
  {
   "cell_type": "code",
   "execution_count": 12,
   "id": "f8e7c733",
   "metadata": {},
   "outputs": [
    {
     "name": "stdout",
     "output_type": "stream",
     "text": [
      "   Age  Gender  Marital status  Occupation  Education Qualification  \\\n",
      "0   26       1               1           1                      2.0   \n",
      "1   21       2               1           2                      2.0   \n",
      "2   20       1               1           2                      2.0   \n",
      "3   20       2               1           2                      2.0   \n",
      "4   21       1               1           2                      2.0   \n",
      "\n",
      "   Member in family  Place Which you like to prefer for online food app  \\\n",
      "0                 6    5.0                                       Zomato   \n",
      "1                 3    5.0                                       Zomato   \n",
      "2                 7    6.0                                       Zomato   \n",
      "3                 4    5.0                                       Zomato   \n",
      "4                 4    6.0                                       Zomato   \n",
      "\n",
      "   Feedback of last order  \n",
      "0                       1  \n",
      "1                       1  \n",
      "2                       1  \n",
      "3                       1  \n",
      "4                       1  \n"
     ]
    }
   ],
   "source": [
    "data[\"Gender\"]=data[\"Gender\"].map({\"Male\":1,\"Female\":2})\n",
    "data[\"Marital status\"]=data[\"Marital status\"].map({\"Unmarried\":1,\"Married\":2})\n",
    "data[\"Occupation\"]=data[\"Occupation\"].map({\"Service\":1,\"Student\":2,\"Business\":3})\n",
    "data[\"Education Qualification\"]=data[\"Education Qualification\"].map({\"Higher Secondary\":1,\"Graduation\":2,\"Masters\":3,\"PHD\":4})\n",
    "data[\"Place\"]=data[\"Place\"].map({\"Alipurduar\":5,\"Coochbehar\":6,\"Other\":7})\n",
    "data[\"Feedback of last order\"]=data[\"Feedback of last order\"].map({\"Positive\":1,\"Negative\":0})\n",
    "print(data.head())"
   ]
  },
  {
   "cell_type": "markdown",
   "id": "be05711b",
   "metadata": {},
   "source": [
    "### Now let’s train a machine learning model to predict which apps\n",
    "doesmost of the time used will start by splitting the data into training and\n",
    "test sets:"
   ]
  },
  {
   "cell_type": "code",
   "execution_count": 13,
   "id": "de3f9445",
   "metadata": {},
   "outputs": [
    {
     "name": "stdout",
     "output_type": "stream",
     "text": [
      "Requirement already satisfied: scipy in c:\\users\\arijit roy\\python-anaconda\\lib\\site-packages (1.9.1)\n",
      "Requirement already satisfied: numpy<1.25.0,>=1.18.5 in c:\\users\\arijit roy\\python-anaconda\\lib\\site-packages (from scipy) (1.21.5)\n"
     ]
    }
   ],
   "source": [
    "!pip3 install scipy"
   ]
  },
  {
   "cell_type": "code",
   "execution_count": 14,
   "id": "f4860913",
   "metadata": {},
   "outputs": [
    {
     "name": "stdout",
     "output_type": "stream",
     "text": [
      "0.52\n"
     ]
    },
    {
     "data": {
      "image/png": "[encoded data removed]",
      "text/plain": [
       "<Figure size 640x480 with 1 Axes>"
      ]
     },
     "metadata": {},
     "output_type": "display_data"
    }
   ],
   "source": [
    "\n",
    "import matplotlib.pyplot as plt\n",
    "import numpy as np\n",
    "\n",
    "from sklearn.model_selection import train_test_split\n",
    "x = np.array(data[[\"Age\",\"Gender\",\"Marital status\",\"Occupation\",\"Education Qualification\",\"Member in family\",\"Place\",\"Feedback of last order\"]])\n",
    "y = np.array(data[[\"Which you like to prefer for online food app\"]])\n",
    "# training a machine learning model\n",
    "nan_value =np.nan_to_num(x)\n",
    "#print(nan_value)\n",
    "from sklearn.ensemble import RandomForestClassifier\n",
    "xtrain, xtest, ytrain, ytest = train_test_split(nan_value, y,test_size=0.25,random_state=42)\n",
    "model = RandomForestClassifier()\n",
    "model.fit(xtrain, ytrain.ravel())\n",
    "modelsocre = model.score(xtest, ytest)\n",
    "print(modelsocre)\n",
    "plt.plot([modelsocre],'ro')\n",
    "plt.ylabel('Model Score')\n",
    "plt.xlabel('Axispoint')\n",
    "plt.show()\n"
   ]
  },
  {
   "cell_type": "code",
   "execution_count": 14,
   "id": "5c8db854",
   "metadata": {},
   "outputs": [
    {
     "name": "stdout",
     "output_type": "stream",
     "text": [
      "   Age  Gender  Marital status  Occupation  Education Qualification  \\\n",
      "0   26       1               1           1                      2.0   \n",
      "1   21       2               1           2                      2.0   \n",
      "2   20       1               1           2                      2.0   \n",
      "3   20       2               1           2                      2.0   \n",
      "4   21       1               1           2                      2.0   \n",
      "\n",
      "   Member in family  Place Which you like to prefer for online food app  \\\n",
      "0                 6    5.0                                       Zomato   \n",
      "1                 3    5.0                                       Zomato   \n",
      "2                 7    6.0                                       Zomato   \n",
      "3                 4    5.0                                       Zomato   \n",
      "4                 4    6.0                                       Zomato   \n",
      "\n",
      "   Feedback of last order  \n",
      "0                       1  \n",
      "1                       1  \n",
      "2                       1  \n",
      "3                       1  \n",
      "4                       1  \n"
     ]
    }
   ],
   "source": [
    "import pandas as pd\n",
    "data = pd.read_csv(\"Final_response.csv\")\n",
    "data[\"Gender\"]=data[\"Gender\"].map({\"Male\":1,\"Female\":2})\n",
    "data[\"Marital status\"]=data[\"Marital status\"].map({\"Unmarried\":1,\"Married\":2})\n",
    "data[\"Occupation\"]=data[\"Occupation\"].map({\"Service\":1,\"Student\":2,\"Business\":3})\n",
    "data[\"Education Qualification\"]=data[\"Education Qualification\"].map({\"Higher Secondary\":1,\"Graduation\":2,\"Masters\":3,\"PHD\":4})\n",
    "data[\"Place\"]=data[\"Place\"].map({\"Alipurduar\":5,\"Coochbehar\":6,\"Other\":7})\n",
    "data[\"Feedback of last order\"]=data[\"Feedback of last order\"].map({\"Positive\":1,\"Negative\":0})\n",
    "print(data.head())"
   ]
  },
  {
   "cell_type": "markdown",
   "id": "bae9bcc5",
   "metadata": {},
   "source": [
    "#### PROGRAMMING AS A OUTPUT"
   ]
  },
  {
   "cell_type": "code",
   "execution_count": 15,
   "id": "426f57b9",
   "metadata": {},
   "outputs": [
    {
     "name": "stdout",
     "output_type": "stream",
     "text": [
      "0.44\n"
     ]
    }
   ],
   "source": [
    "import numpy as np\n",
    "\n",
    "from sklearn.model_selection import train_test_split\n",
    "x = np.array(data[[\"Age\",\"Gender\",\"Marital status\",\"Occupation\",\"Education Qualification\",\"Member in family\",\"Place\",\"Feedback of last order\"]])\n",
    "y = np.array(data[[\"Which you like to prefer for online food app\"]])\n",
    "# training a machine learning model\n",
    "nan_value =np.nan_to_num(x)\n",
    "#print(nan_value)\n",
    "from sklearn.ensemble import RandomForestClassifier\n",
    "xtrain, xtest, ytrain, ytest = train_test_split(nan_value, y,test_size=0.25,random_state=42)\n",
    "model = RandomForestClassifier()\n",
    "model.fit(xtrain, ytrain.ravel())\n",
    "modelsocre = model.score(xtest, ytest)\n",
    "print(modelsocre)"
   ]
  },
  {
   "cell_type": "markdown",
   "id": "9b53b77a",
   "metadata": {},
   "source": [
    "### Prediciting out come through a program"
   ]
  },
  {
   "cell_type": "code",
   "execution_count": 19,
   "id": "4b64d26a",
   "metadata": {},
   "outputs": [
    {
     "name": "stdout",
     "output_type": "stream",
     "text": [
      "Enter the customer details below:-\n",
      "Enter the age of the customer:25\n",
      "Enter the gender (1=Male, 2=Female):1\n",
      "Enter the marital status(1=unmarried,2=married):1\n",
      "Enter the Occupation(1=Service,2=Student,3=Business):1\n",
      "Enter the Education Qualification(Higher Secondary:1,Graduation:2,Masters:3,PHD:4):1\n",
      "Enter the member in family:1\n",
      "Enter the place (Alipurduar:5,Coochbehar:6 ,Other:7):15\n",
      "Review of last order feedback (1= Positive,0=Negative):1\n",
      "Finding Which app is used most familiar: ['Zomato']\n"
     ]
    }
   ],
   "source": [
    "print(\"Enter the customer details below:-\")\n",
    "a = int(input(\"Enter the age of the customer:\"))\n",
    "b = int(input(\"Enter the gender (1=Male, 2=Female):\"))\n",
    "c = int(input(\"Enter the marital status(1=unmarried,2=married):\"))\n",
    "d = int(input(\"Enter the Occupation(1=Service,2=Student,3=Business):\"))\n",
    "e = int(input(\"Enter the Education Qualification(Higher Secondary:1,Graduation:2,Masters:3,PHD:4):\"))\n",
    "f = int(input(\"Enter the member in family:\"))\n",
    "g = int(input(\"Enter the place (Alipurduar:5,Coochbehar:6 ,Other:7):\"))\n",
    "h = int(input(\"Review of last order feedback (1= Positive,0=Negative):\"))\n",
    "features = np.array([[a, b, c, d, e, f, g,h]])\n",
    "print(\"Finding Which app is used most familiar:\",model.predict(features))\n"
   ]
  }
 ],
 "metadata": {
  "kernelspec": {
   "display_name": "Python 3 (ipykernel)",
   "language": "python",
   "name": "python3"
  },
  "language_info": {
   "codemirror_mode": {
    "name": "ipython",
    "version": 3
   },
   "file_extension": ".py",
   "mimetype": "text/x-python",
   "name": "python",
   "nbconvert_exporter": "python",
   "pygments_lexer": "ipython3",
   "version": "3.9.13"
  }
 },
 "nbformat": 4,
 "nbformat_minor": 5
}
